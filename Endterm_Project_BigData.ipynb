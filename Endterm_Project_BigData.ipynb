{
  "cells": [
    {
      "cell_type": "markdown",
      "metadata": {
        "id": "SopfqsBTq6ZP"
      },
      "source": [
        "# Set Up"
      ]
    },
    {
      "cell_type": "code",
      "execution_count": null,
      "metadata": {
        "id": "FhsQ0w1jmgnQ",
        "colab": {
          "base_uri": "https://localhost:8080/"
        },
        "outputId": "fa7b5a6f-c205-4ea1-ef00-7bfa1285c2b5"
      },
      "outputs": [
        {
          "output_type": "stream",
          "name": "stdout",
          "text": [
            "Drive already mounted at /content/drive; to attempt to forcibly remount, call drive.mount(\"/content/drive\", force_remount=True).\n"
          ]
        }
      ],
      "source": [
        "from google.colab import drive\n",
        "drive.mount('/content/drive')"
      ]
    },
    {
      "cell_type": "code",
      "execution_count": null,
      "metadata": {
        "id": "DJLmHwGDrBFm",
        "colab": {
          "base_uri": "https://localhost:8080/"
        },
        "outputId": "6e258244-eb6d-43cc-826b-49cb56f17d09"
      },
      "outputs": [
        {
          "output_type": "stream",
          "name": "stdout",
          "text": [
            "Collecting pyspark\n",
            "  Downloading pyspark-3.5.1.tar.gz (317.0 MB)\n",
            "\u001b[2K     \u001b[90m━━━━━━━━━━━━━━━━━━━━━━━━━━━━━━━━━━━━━━━━\u001b[0m \u001b[32m317.0/317.0 MB\u001b[0m \u001b[31m2.9 MB/s\u001b[0m eta \u001b[36m0:00:00\u001b[0m\n",
            "\u001b[?25h  Preparing metadata (setup.py) ... \u001b[?25l\u001b[?25hdone\n",
            "Requirement already satisfied: py4j==0.10.9.7 in /usr/local/lib/python3.10/dist-packages (from pyspark) (0.10.9.7)\n",
            "Building wheels for collected packages: pyspark\n",
            "  Building wheel for pyspark (setup.py) ... \u001b[?25l\u001b[?25hdone\n",
            "  Created wheel for pyspark: filename=pyspark-3.5.1-py2.py3-none-any.whl size=317488491 sha256=17ef4c1c7ec7e7ea6ed88bd701740399abaa810ef73706896b9e627d51b524cd\n",
            "  Stored in directory: /root/.cache/pip/wheels/80/1d/60/2c256ed38dddce2fdd93be545214a63e02fbd8d74fb0b7f3a6\n",
            "Successfully built pyspark\n",
            "Installing collected packages: pyspark\n",
            "Successfully installed pyspark-3.5.1\n"
          ]
        }
      ],
      "source": [
        "!pip install pyspark"
      ]
    },
    {
      "cell_type": "code",
      "source": [
        "!pip install scikit-learn"
      ],
      "metadata": {
        "id": "NZqMxXrArjS-"
      },
      "execution_count": null,
      "outputs": []
    },
    {
      "cell_type": "code",
      "execution_count": null,
      "metadata": {
        "id": "mBy7prxurXjV"
      },
      "outputs": [],
      "source": [
        "import pyspark\n",
        "from pyspark.sql import SparkSession\n",
        "from functools import *\n",
        "from pyspark.sql.functions import *\n",
        "from pyspark.sql import DataFrame\n",
        "from pyspark.ml.feature import StringIndexer, OneHotEncoder, VectorAssembler, Bucketizer\n",
        "from pyspark.ml.regression import LinearRegression\n",
        "from pyspark.ml.evaluation import RegressionEvaluator\n",
        "import seaborn as sns\n",
        "import matplotlib.pyplot as plt"
      ]
    },
    {
      "cell_type": "code",
      "execution_count": null,
      "metadata": {
        "id": "ksdh5t1J8X6P"
      },
      "outputs": [],
      "source": [
        "spark = SparkSession.builder.getOrCreate()"
      ]
    },
    {
      "cell_type": "markdown",
      "metadata": {
        "id": "1Fy0gQWfrcyn"
      },
      "source": [
        "# Check Data"
      ]
    },
    {
      "cell_type": "markdown",
      "metadata": {
        "id": "XMkEP13EQGkS"
      },
      "source": [
        "Ta sẽ thực hiện việc kết hợp data đã cho:\n",
        "- Hợp data properties_2016 với train_2016, properties_2017 với train_2017 dựa vào cột `parcelid`\n",
        "- Ghép dữ liệu 2 năm 2016 và 2017"
      ]
    },
    {
      "cell_type": "code",
      "execution_count": null,
      "metadata": {
        "id": "_OsAi3tvreD2"
      },
      "outputs": [],
      "source": [
        "properties_2016 = spark.read.csv('/content/drive/MyDrive/Data/properties_2016.csv', header=True, inferSchema=True)"
      ]
    },
    {
      "cell_type": "code",
      "execution_count": null,
      "metadata": {
        "id": "g3kM82vpQwcR"
      },
      "outputs": [],
      "source": [
        "train_2016 = spark.read.csv('/content/drive/MyDrive/Data/train_2016_v2.csv', header=True, inferSchema=True)"
      ]
    },
    {
      "cell_type": "code",
      "execution_count": null,
      "metadata": {
        "id": "S1ah72GjXLd6"
      },
      "outputs": [],
      "source": [
        "train_2016 = train_2016.withColumnRenamed('parcelid', 'parcelid_train')"
      ]
    },
    {
      "cell_type": "code",
      "execution_count": null,
      "metadata": {
        "id": "lwaaleJ9ROYr"
      },
      "outputs": [],
      "source": [
        "df_2016 = properties_2016.join(train_2016, properties_2016['parcelid'] == train_2016['parcelid_train'], 'inner')"
      ]
    },
    {
      "cell_type": "code",
      "execution_count": null,
      "metadata": {
        "id": "pPvmiiAoQ3SB"
      },
      "outputs": [],
      "source": [
        "properties_2017 = spark.read.csv('/content/drive/MyDrive/Data/properties_2017.csv', header=True, inferSchema=True)"
      ]
    },
    {
      "cell_type": "code",
      "execution_count": null,
      "metadata": {
        "id": "AnQZ96OJJPjk"
      },
      "outputs": [],
      "source": [
        "train_2017 = spark.read.csv('/content/drive/MyDrive/Data/train_2017.csv', header=True, inferSchema=True)"
      ]
    },
    {
      "cell_type": "code",
      "execution_count": null,
      "metadata": {
        "id": "llOyTCVvXa55"
      },
      "outputs": [],
      "source": [
        "train_2017 = train_2017.withColumnRenamed('parcelid', 'parcelid_train')"
      ]
    },
    {
      "cell_type": "code",
      "execution_count": null,
      "metadata": {
        "id": "X4GHWc3RRq-r"
      },
      "outputs": [],
      "source": [
        "df_2017 = properties_2017.join(train_2017, properties_2017['parcelid'] == train_2017['parcelid_train'], 'inner')"
      ]
    },
    {
      "cell_type": "code",
      "source": [
        "properties_2016.count()"
      ],
      "metadata": {
        "colab": {
          "base_uri": "https://localhost:8080/"
        },
        "id": "dw6rZBjoRUbf",
        "outputId": "1a27cc42-4cb1-48da-9ccc-d4dfed079dad"
      },
      "execution_count": null,
      "outputs": [
        {
          "output_type": "execute_result",
          "data": {
            "text/plain": [
              "2985217"
            ]
          },
          "metadata": {},
          "execution_count": 166
        }
      ]
    },
    {
      "cell_type": "code",
      "source": [
        "train_2016.count()"
      ],
      "metadata": {
        "colab": {
          "base_uri": "https://localhost:8080/"
        },
        "id": "eckAzdwSRaz2",
        "outputId": "c399d515-6f89-4f03-a6f4-027d7257515b"
      },
      "execution_count": null,
      "outputs": [
        {
          "output_type": "execute_result",
          "data": {
            "text/plain": [
              "90275"
            ]
          },
          "metadata": {},
          "execution_count": 167
        }
      ]
    },
    {
      "cell_type": "code",
      "source": [
        "properties_2017.count()"
      ],
      "metadata": {
        "colab": {
          "base_uri": "https://localhost:8080/"
        },
        "id": "oNTMfsN8RcMc",
        "outputId": "c9f70904-9646-47b1-8ee2-b4f7891c42b4"
      },
      "execution_count": null,
      "outputs": [
        {
          "output_type": "execute_result",
          "data": {
            "text/plain": [
              "2985217"
            ]
          },
          "metadata": {},
          "execution_count": 168
        }
      ]
    },
    {
      "cell_type": "code",
      "source": [
        "train_2017.count()"
      ],
      "metadata": {
        "colab": {
          "base_uri": "https://localhost:8080/"
        },
        "id": "2kUdoTsfRel8",
        "outputId": "abbdd33c-1605-467b-eb4e-11dacd26a530"
      },
      "execution_count": null,
      "outputs": [
        {
          "output_type": "execute_result",
          "data": {
            "text/plain": [
              "77613"
            ]
          },
          "metadata": {},
          "execution_count": 169
        }
      ]
    },
    {
      "cell_type": "code",
      "source": [
        "df_2016.count()"
      ],
      "metadata": {
        "colab": {
          "base_uri": "https://localhost:8080/"
        },
        "id": "Gt5XMWYkRCpe",
        "outputId": "126804e3-c6a6-40f2-e45f-af495581419a"
      },
      "execution_count": null,
      "outputs": [
        {
          "output_type": "execute_result",
          "data": {
            "text/plain": [
              "90275"
            ]
          },
          "metadata": {},
          "execution_count": 164
        }
      ]
    },
    {
      "cell_type": "code",
      "source": [
        "df_2017.count()"
      ],
      "metadata": {
        "colab": {
          "base_uri": "https://localhost:8080/"
        },
        "id": "pdUZMlKdRPfB",
        "outputId": "2cdc9733-c428-469c-d5a4-ef8a11ac2bf4"
      },
      "execution_count": null,
      "outputs": [
        {
          "output_type": "execute_result",
          "data": {
            "text/plain": [
              "77613"
            ]
          },
          "metadata": {},
          "execution_count": 165
        }
      ]
    },
    {
      "cell_type": "code",
      "execution_count": null,
      "metadata": {
        "id": "YCGx5xFVJJ59"
      },
      "outputs": [],
      "source": [
        "# Kết hợp 2 data\n",
        "# def unionAll(*dfs):\n",
        "#     return reduce(DataFrame.unionAll, dfs)\n",
        "\n",
        "# def unionAll(dfs):\n",
        "#     return reduce(lambda df1, df2: df1.union(df2.select(df1.columns), dfs))\n",
        "\n",
        "# df = unionAll([df_2016, df_2017])\n",
        "\n",
        "df = df_2016.union(df_2017)"
      ]
    },
    {
      "cell_type": "code",
      "execution_count": null,
      "metadata": {
        "id": "N44yU7T5Lm3d",
        "colab": {
          "base_uri": "https://localhost:8080/"
        },
        "outputId": "89525adc-2700-4387-94b0-6e3280aa6700"
      },
      "outputs": [
        {
          "output_type": "stream",
          "name": "stdout",
          "text": [
            "root\n",
            " |-- parcelid: integer (nullable = true)\n",
            " |-- airconditioningtypeid: integer (nullable = true)\n",
            " |-- architecturalstyletypeid: integer (nullable = true)\n",
            " |-- basementsqft: integer (nullable = true)\n",
            " |-- bathroomcnt: double (nullable = true)\n",
            " |-- bedroomcnt: double (nullable = true)\n",
            " |-- buildingclasstypeid: integer (nullable = true)\n",
            " |-- buildingqualitytypeid: integer (nullable = true)\n",
            " |-- calculatedbathnbr: double (nullable = true)\n",
            " |-- decktypeid: integer (nullable = true)\n",
            " |-- finishedfloor1squarefeet: integer (nullable = true)\n",
            " |-- calculatedfinishedsquarefeet: double (nullable = true)\n",
            " |-- finishedsquarefeet12: integer (nullable = true)\n",
            " |-- finishedsquarefeet13: integer (nullable = true)\n",
            " |-- finishedsquarefeet15: integer (nullable = true)\n",
            " |-- finishedsquarefeet50: integer (nullable = true)\n",
            " |-- finishedsquarefeet6: integer (nullable = true)\n",
            " |-- fips: integer (nullable = true)\n",
            " |-- fireplacecnt: integer (nullable = true)\n",
            " |-- fullbathcnt: integer (nullable = true)\n",
            " |-- garagecarcnt: integer (nullable = true)\n",
            " |-- garagetotalsqft: integer (nullable = true)\n",
            " |-- hashottuborspa: boolean (nullable = true)\n",
            " |-- heatingorsystemtypeid: integer (nullable = true)\n",
            " |-- latitude: integer (nullable = true)\n",
            " |-- longitude: integer (nullable = true)\n",
            " |-- lotsizesquarefeet: double (nullable = true)\n",
            " |-- poolcnt: integer (nullable = true)\n",
            " |-- poolsizesum: integer (nullable = true)\n",
            " |-- pooltypeid10: integer (nullable = true)\n",
            " |-- pooltypeid2: integer (nullable = true)\n",
            " |-- pooltypeid7: integer (nullable = true)\n",
            " |-- propertycountylandusecode: string (nullable = true)\n",
            " |-- propertylandusetypeid: integer (nullable = true)\n",
            " |-- propertyzoningdesc: string (nullable = true)\n",
            " |-- rawcensustractandblock: double (nullable = true)\n",
            " |-- regionidcity: integer (nullable = true)\n",
            " |-- regionidcounty: integer (nullable = true)\n",
            " |-- regionidneighborhood: integer (nullable = true)\n",
            " |-- regionidzip: integer (nullable = true)\n",
            " |-- roomcnt: double (nullable = true)\n",
            " |-- storytypeid: integer (nullable = true)\n",
            " |-- threequarterbathnbr: integer (nullable = true)\n",
            " |-- typeconstructiontypeid: integer (nullable = true)\n",
            " |-- unitcnt: integer (nullable = true)\n",
            " |-- yardbuildingsqft17: integer (nullable = true)\n",
            " |-- yardbuildingsqft26: integer (nullable = true)\n",
            " |-- yearbuilt: double (nullable = true)\n",
            " |-- numberofstories: integer (nullable = true)\n",
            " |-- fireplaceflag: boolean (nullable = true)\n",
            " |-- structuretaxvaluedollarcnt: double (nullable = true)\n",
            " |-- taxvaluedollarcnt: double (nullable = true)\n",
            " |-- assessmentyear: integer (nullable = true)\n",
            " |-- landtaxvaluedollarcnt: double (nullable = true)\n",
            " |-- taxamount: double (nullable = true)\n",
            " |-- taxdelinquencyflag: string (nullable = true)\n",
            " |-- taxdelinquencyyear: integer (nullable = true)\n",
            " |-- censustractandblock: long (nullable = true)\n",
            " |-- parcelid_train: integer (nullable = true)\n",
            " |-- logerror: double (nullable = true)\n",
            " |-- transactiondate: date (nullable = true)\n",
            "\n"
          ]
        }
      ],
      "source": [
        "# Check schema\n",
        "df.printSchema()"
      ]
    },
    {
      "cell_type": "code",
      "execution_count": null,
      "metadata": {
        "id": "YgWLcCi9D1Po",
        "colab": {
          "base_uri": "https://localhost:8080/"
        },
        "outputId": "0e9ca14b-b6d5-43ed-c4ba-9fe2fa85fe02"
      },
      "outputs": [
        {
          "output_type": "stream",
          "name": "stdout",
          "text": [
            "+-------+--------------------+---------------------+------------------------+-----------------+------------------+------------------+-------------------+---------------------+------------------+----------+------------------------+----------------------------+--------------------+--------------------+--------------------+--------------------+-------------------+-----------------+-------------------+------------------+------------------+------------------+---------------------+-------------------+--------------------+------------------+-------+-----------------+------------+-----------+--------------------+-------------------------+---------------------+------------------+----------------------+------------------+------------------+--------------------+-----------------+------------------+-----------+-------------------+----------------------+------------------+------------------+------------------+------------------+------------------+--------------------------+------------------+-------------------+---------------------+-----------------+------------------+------------------+--------------------+--------------------+-------------------+\n",
            "|summary|            parcelid|airconditioningtypeid|architecturalstyletypeid|     basementsqft|       bathroomcnt|        bedroomcnt|buildingclasstypeid|buildingqualitytypeid| calculatedbathnbr|decktypeid|finishedfloor1squarefeet|calculatedfinishedsquarefeet|finishedsquarefeet12|finishedsquarefeet13|finishedsquarefeet15|finishedsquarefeet50|finishedsquarefeet6|             fips|       fireplacecnt|       fullbathcnt|      garagecarcnt|   garagetotalsqft|heatingorsystemtypeid|           latitude|           longitude| lotsizesquarefeet|poolcnt|      poolsizesum|pooltypeid10|pooltypeid2|         pooltypeid7|propertycountylandusecode|propertylandusetypeid|propertyzoningdesc|rawcensustractandblock|      regionidcity|    regionidcounty|regionidneighborhood|      regionidzip|           roomcnt|storytypeid|threequarterbathnbr|typeconstructiontypeid|           unitcnt|yardbuildingsqft17|yardbuildingsqft26|         yearbuilt|   numberofstories|structuretaxvaluedollarcnt| taxvaluedollarcnt|     assessmentyear|landtaxvaluedollarcnt|        taxamount|taxdelinquencyflag|taxdelinquencyyear| censustractandblock|      parcelid_train|           logerror|\n",
            "+-------+--------------------+---------------------+------------------------+-----------------+------------------+------------------+-------------------+---------------------+------------------+----------+------------------------+----------------------------+--------------------+--------------------+--------------------+--------------------+-------------------+-----------------+-------------------+------------------+------------------+------------------+---------------------+-------------------+--------------------+------------------+-------+-----------------+------------+-----------+--------------------+-------------------------+---------------------+------------------+----------------------+------------------+------------------+--------------------+-----------------+------------------+-----------+-------------------+----------------------+------------------+------------------+------------------+------------------+------------------+--------------------------+------------------+-------------------+---------------------+-----------------+------------------+------------------+--------------------+--------------------+-------------------+\n",
            "|  count|              167888|                53788|                     468|               93|            167854|            167854|                 31|               107173|            166056|      1272|                   12893|                      166992|              159519|                  75|                6591|               12893|                807|           167854|              17896|            166056|             55457|             55457|               105651|             167854|              167854|            149446|  34075|             1838|        1626|       2278|               31776|                   167853|               167854|            108789|                167854|            164579|            167854|               66986|           167769|            167854|         93|              22115|                   522|            109056|              5039|               165|            166828|             38169|                    167359|            167852|             167854|               167851|           167843|              4683|              4683|              167002|              167888|             167888|\n",
            "|   mean|1.2995358543713666E7|   1.8143452071093924|       7.299145299145299|695.3763440860215|2.2882653973095666| 3.041738653830114|  3.967741935483871|    6.015460983643268| 2.312542154453919|      66.0|      1356.4918948266502|           1778.630245760276|  1752.3269391107015|  1395.7066666666667|  2368.3334850553783|   1367.647017761576|  2197.294919454771| 6048.84448389672|  1.189427805096111| 2.245344943874356|1.8135131723677804|347.60390933516055|    3.924525087315785|3.400677799591907E7|-1.182011167705208E8|29510.596012285376|    1.0|518.9309031556039|         1.0|        1.0|                 1.0|         197.475911206235|    261.8286189188223|              NULL|   6.049154044083906E7|33725.134525060916|2529.6239231713275|  189295.68538202014|96586.39072176623|1.4774804294208062|        7.0| 1.0091340718969026|     6.022988505747127|1.1103653169014085|307.91903155387973|271.26060606060605|1968.5693109070419|1.4377636301710812|         184346.0200407507|472683.32308819675|  2015.462181419567|   288880.46886226477|5989.515575329335|              NULL|13.827247490924622|6.049390040990982E13|1.2995358543713666E7|0.01390630617124188|\n",
            "| stddev|  3016071.4047279283|    2.970238814138383|      2.7196326659156247|583.9521442940504|1.0008354905310872|1.1491344930753558| 0.1796053020267749|   1.8827988039292847|0.9778076119995398|       0.0|       661.0685643629861|           940.3560249915745|    921.360898265045|  116.53914472078579|   1124.302410662777|   698.6690274453313| 1300.5540477153368|20.70218727656006|0.48732694556179496|0.9647030125024201| 0.599446652125714|264.56561842080566|    3.642599305754551|  265117.5301361678|  360058.60993810464|122458.82467176382|    0.0|155.7329802762637|         0.0|        0.0|9.293109195525735...|       304.18801777274376|   5.1638375515752415|              NULL|     205443.7239690418| 46922.46886727307| 803.7451758019891|  165687.73452184175|3723.009458409222|2.8214955286591197|        0.0|0.10929384309471056|    0.4912363225858867|0.9881682471940205| 227.4309596302741| 293.6114467631706|23.777201885858926|0.5445084041664622|        219284.07400320488| 602837.2056365291|0.49856918863045424|    445645.1160788935|7214.731945553051|              NULL|2.4216577270496966|1.054136570824801E12|  3016071.4047279283|0.16570593701585137|\n",
            "|    min|            10711738|                    1|                       2|               38|               0.0|               0.0|                  3|                    1|               1.0|        66|                      44|                         2.0|                   2|                1056|                 560|                  44|                257|             6037|                  1|                 1|                 0|                 0|                    1|           33339295|          -119475416|             167.0|      1|               24|           1|          1|                   1|                        0|                   31|             1NR1*|        6.0371011101E7|              3491|              1286|                6952|            95982|               0.0|          7|                  1|                     4|                 1|                11|                12|            1824.0|                 1|                      44.0|              22.0|               2015|                 22.0|            19.92|                 Y|                 3|      60371011101000|            10711738|     -4.65542037764|\n",
            "|    max|           167689317|                   13|                      21|             3560|              20.0|              16.0|                  4|                   12|              20.0|        66|                    7625|                     35640.0|               21929|                1584|               35640|               12467|               7224|             6111|                  5|                20|                24|              7339|                   24|           34818767|          -117554636|         6971010.0|      1|             1750|           1|          1|                   1|                       96|                  275|        WVRR1-RPD1|     6.1110091002027E7|            396556|              3101|              764167|           399675|              18.0|          7|                  7|                    13|               237|              3191|              1366|            2016.0|                 6|                1.142179E7|       4.9061236E7|               2016|          4.8952198E7|         586639.3|                 Y|                99|     483030105084015|           167689317|       5.2629986498|\n",
            "+-------+--------------------+---------------------+------------------------+-----------------+------------------+------------------+-------------------+---------------------+------------------+----------+------------------------+----------------------------+--------------------+--------------------+--------------------+--------------------+-------------------+-----------------+-------------------+------------------+------------------+------------------+---------------------+-------------------+--------------------+------------------+-------+-----------------+------------+-----------+--------------------+-------------------------+---------------------+------------------+----------------------+------------------+------------------+--------------------+-----------------+------------------+-----------+-------------------+----------------------+------------------+------------------+------------------+------------------+------------------+--------------------------+------------------+-------------------+---------------------+-----------------+------------------+------------------+--------------------+--------------------+-------------------+\n",
            "\n"
          ]
        }
      ],
      "source": [
        "# Kiểm tra thống kê mô tả\n",
        "df.describe().show()"
      ]
    },
    {
      "cell_type": "markdown",
      "metadata": {
        "id": "e-3I945GLcpT"
      },
      "source": [
        "# EDA"
      ]
    },
    {
      "cell_type": "code",
      "execution_count": null,
      "metadata": {
        "id": "1TFBdl9HhYlh",
        "colab": {
          "base_uri": "https://localhost:8080/",
          "height": 647
        },
        "outputId": "0cc3b83c-22f4-49cb-bab5-b2fcabb8535a"
      },
      "outputs": [
        {
          "output_type": "stream",
          "name": "stderr",
          "text": [
            "<ipython-input-19-15439b4f82bd>:6: UserWarning: \n",
            "\n",
            "`distplot` is a deprecated function and will be removed in seaborn v0.14.0.\n",
            "\n",
            "Please adapt your code to use either `displot` (a figure-level function with\n",
            "similar flexibility) or `histplot` (an axes-level function for histograms).\n",
            "\n",
            "For a guide to updating your code to use the new functions, please see\n",
            "https://gist.github.com/mwaskom/de44147ed2974457ad6372750bbe5751\n",
            "\n",
            "  sns.distplot(pandas_df)\n"
          ]
        },
        {
          "output_type": "display_data",
          "data": {
            "text/plain": [
              "<Figure size 640x480 with 1 Axes>"
            ],
            "image/png": "[encoded data removed]"
          },
          "metadata": {}
        },
        {
          "output_type": "stream",
          "name": "stdout",
          "text": [
            "[Row(skewness(logerror)=2.9508442908992385)]\n"
          ]
        }
      ],
      "source": [
        "# Select a single column and sample and convert to pandas\n",
        "sample_df = df.select(['logerror']).sample(False, 0.5, 42)\n",
        "pandas_df = sample_df.toPandas()\n",
        "\n",
        "# Plot distribution of pandas_df and display plot\n",
        "sns.distplot(pandas_df)\n",
        "plt.show()\n",
        "\n",
        "# Compute and print skewness of logerror\n",
        "print(df.agg({'logerror': 'skewness'}).collect())"
      ]
    },
    {
      "cell_type": "code",
      "source": [
        "df.agg({'logerror': 'max'}).collect()"
      ],
      "metadata": {
        "id": "fHE5i9dJSokg",
        "colab": {
          "base_uri": "https://localhost:8080/"
        },
        "outputId": "49086594-d715-4575-d45a-030b41c00730"
      },
      "execution_count": null,
      "outputs": [
        {
          "output_type": "execute_result",
          "data": {
            "text/plain": [
              "[Row(max(logerror)=5.2629986498)]"
            ]
          },
          "metadata": {},
          "execution_count": 20
        }
      ]
    },
    {
      "cell_type": "code",
      "source": [
        "df.agg({'logerror': 'min'}).collect()"
      ],
      "metadata": {
        "id": "hGFV8MvSTqGR",
        "colab": {
          "base_uri": "https://localhost:8080/"
        },
        "outputId": "ecf8744e-9232-4962-a91d-252b0083dd86"
      },
      "execution_count": null,
      "outputs": [
        {
          "output_type": "execute_result",
          "data": {
            "text/plain": [
              "[Row(min(logerror)=-4.65542037764)]"
            ]
          },
          "metadata": {},
          "execution_count": 21
        }
      ]
    },
    {
      "cell_type": "code",
      "execution_count": null,
      "metadata": {
        "id": "kTYcTLbguaua"
      },
      "outputs": [],
      "source": [
        "# calculatedfinished_square = df.select(['calculatedfinishedsquarefeet', 'logerror']).sample(False, 0.5,42)\n",
        "# calculatedfinished_square = calculatedfinished_square.toPandas()\n",
        "\n",
        "# sns.lmplot(data=calculatedfinished_square, x='calculatedfinishedsquarefeet', y='logerror')"
      ]
    },
    {
      "cell_type": "code",
      "execution_count": null,
      "metadata": {
        "id": "tbSxv_EBuBdd"
      },
      "outputs": [],
      "source": [
        "# finishedsquare = df.select(['finishedsquarefeet12', 'logerror']).sample(False, 0.5,42)\n",
        "# finishedsquare = finishedsquare.toPandas()\n",
        "\n",
        "# sns.lmplot(data=finishedsquare, x='finishedsquarefeet12', y='logerror')"
      ]
    },
    {
      "cell_type": "code",
      "execution_count": null,
      "metadata": {
        "id": "g3ZfzX7TzEem"
      },
      "outputs": [],
      "source": [
        "# df_room = df.select(['roomcnt','logerror']).sample(False, 0.5, 42)\n",
        "# df_room = df_room.toPandas()\n",
        "\n",
        "# sns.lmplot(data=df_room, x='roomcnt', y='logerror')"
      ]
    },
    {
      "cell_type": "code",
      "execution_count": null,
      "metadata": {
        "id": "WLOXQBB2zUwM"
      },
      "outputs": [],
      "source": [
        "# df_county = df.select(['regionidcounty']).sample(False, 0.5,42)\n",
        "# df_county = df_county.toPandas()\n",
        "\n",
        "# sns.countplot(data=df_county, x='regionidcounty')\n",
        "# plt.show()"
      ]
    },
    {
      "cell_type": "code",
      "execution_count": null,
      "metadata": {
        "id": "qEvHMu5wB2Qe"
      },
      "outputs": [],
      "source": [
        "# df_month = df.withColumn('month', month('transactiondate')).select(['month']).sample(False, 0.5,42)\n",
        "# df_month = df_month.toPandas()\n",
        "\n",
        "# sns.countplot(data=df_month, x='month')\n",
        "# plt.show()"
      ]
    },
    {
      "cell_type": "code",
      "execution_count": null,
      "metadata": {
        "id": "CQEh-UoitYa5"
      },
      "outputs": [],
      "source": [
        "# df_year = df.withColumn('year', year('transactiondate')).select(['year']).sample(False, 0.5,42)\n",
        "# df_year = df_year.toPandas()\n",
        "\n",
        "# sns.countplot(data=df_year, x='year')\n",
        "# plt.show()"
      ]
    },
    {
      "cell_type": "code",
      "execution_count": null,
      "metadata": {
        "id": "k2NUyDxwsG0l"
      },
      "outputs": [],
      "source": [
        "# sample_df = df.select(['structuretaxvaluedollarcnt']).sample(False, 0.5, 42)\n",
        "# pandas_df = sample_df.toPandas()\n",
        "\n",
        "# sns.distplot(pandas_df)\n",
        "# plt.show()\n",
        "\n",
        "# print(df.agg({'structuretaxvaluedollarcnt': 'skewness'}).collect())"
      ]
    },
    {
      "cell_type": "code",
      "execution_count": null,
      "metadata": {
        "id": "Y55xlaL1sMvs"
      },
      "outputs": [],
      "source": [
        "# sample_df = df.select(['landtaxvaluedollarcnt']).sample(False, 0.5, 42)\n",
        "# pandas_df = sample_df.toPandas()\n",
        "\n",
        "# sns.distplot(pandas_df)\n",
        "# plt.show()\n",
        "\n",
        "# print(df.agg({'landtaxvaluedollarcnt': 'skewness'}).collect())"
      ]
    },
    {
      "cell_type": "code",
      "execution_count": null,
      "metadata": {
        "id": "26TNbvhasN8M"
      },
      "outputs": [],
      "source": [
        "# sample_df = df.select(['taxvaluedollarcnt']).sample(False, 0.5, 42)\n",
        "# pandas_df = sample_df.toPandas()\n",
        "\n",
        "# sns.distplot(pandas_df)\n",
        "# plt.show()\n",
        "\n",
        "# print(df.agg({'taxvaluedollarcnt': 'skewness'}).collect())"
      ]
    },
    {
      "cell_type": "markdown",
      "metadata": {
        "id": "tYEe5eLhMzJm"
      },
      "source": [
        "# Clean Data"
      ]
    },
    {
      "cell_type": "markdown",
      "metadata": {
        "id": "SCUncwifNLuq"
      },
      "source": [
        "## Missing values"
      ]
    },
    {
      "cell_type": "markdown",
      "metadata": {
        "id": "1XRsEyMmNXGq"
      },
      "source": [
        "Ta sẽ loại bỏ các cột bị trống hơn 60% tổng dữ liệu"
      ]
    },
    {
      "cell_type": "code",
      "execution_count": null,
      "metadata": {
        "id": "3h1TioQsk5Ag",
        "colab": {
          "base_uri": "https://localhost:8080/"
        },
        "outputId": "ecca842c-d874-4eaa-e0e4-290f479ad1a6"
      },
      "outputs": [
        {
          "output_type": "stream",
          "name": "stdout",
          "text": [
            "+--------+---------------------+------------------------+------------------+--------------------+--------------------+-------------------+---------------------+--------------------+------------------+------------------------+----------------------------+--------------------+--------------------+--------------------+--------------------+-------------------+--------------------+------------------+--------------------+------------------+------------------+------------------+---------------------+--------------------+--------------------+-------------------+------------------+------------------+------------------+------------------+------------------+-------------------------+---------------------+-------------------+----------------------+-------------------+--------------------+--------------------+--------------------+--------------------+------------------+-------------------+----------------------+------------------+------------------+------------------+--------------------+------------------+------------------+--------------------------+--------------------+--------------------+---------------------+--------------------+------------------+------------------+--------------------+--------------+--------+---------------+\n",
            "|parcelid|airconditioningtypeid|architecturalstyletypeid|      basementsqft|         bathroomcnt|          bedroomcnt|buildingclasstypeid|buildingqualitytypeid|   calculatedbathnbr|        decktypeid|finishedfloor1squarefeet|calculatedfinishedsquarefeet|finishedsquarefeet12|finishedsquarefeet13|finishedsquarefeet15|finishedsquarefeet50|finishedsquarefeet6|                fips|      fireplacecnt|         fullbathcnt|      garagecarcnt|   garagetotalsqft|    hashottuborspa|heatingorsystemtypeid|            latitude|           longitude|  lotsizesquarefeet|           poolcnt|       poolsizesum|      pooltypeid10|       pooltypeid2|       pooltypeid7|propertycountylandusecode|propertylandusetypeid| propertyzoningdesc|rawcensustractandblock|       regionidcity|      regionidcounty|regionidneighborhood|         regionidzip|             roomcnt|       storytypeid|threequarterbathnbr|typeconstructiontypeid|           unitcnt|yardbuildingsqft17|yardbuildingsqft26|           yearbuilt|   numberofstories|     fireplaceflag|structuretaxvaluedollarcnt|   taxvaluedollarcnt|      assessmentyear|landtaxvaluedollarcnt|           taxamount|taxdelinquencyflag|taxdelinquencyyear| censustractandblock|parcelid_train|logerror|transactiondate|\n",
            "+--------+---------------------+------------------------+------------------+--------------------+--------------------+-------------------+---------------------+--------------------+------------------+------------------------+----------------------------+--------------------+--------------------+--------------------+--------------------+-------------------+--------------------+------------------+--------------------+------------------+------------------+------------------+---------------------+--------------------+--------------------+-------------------+------------------+------------------+------------------+------------------+------------------+-------------------------+---------------------+-------------------+----------------------+-------------------+--------------------+--------------------+--------------------+--------------------+------------------+-------------------+----------------------+------------------+------------------+------------------+--------------------+------------------+------------------+--------------------------+--------------------+--------------------+---------------------+--------------------+------------------+------------------+--------------------+--------------+--------+---------------+\n",
            "|     0.0|   0.6796197464976651|      0.9972124273325074|0.9994460592776137|2.025159630229677E-4|2.025159630229677E-4| 0.9998153530925379|  0.36163990279233776|0.010912036595825788|0.9924235204421996|        0.92320475555132|         0.00533689126084056|0.049848708662918136|  0.9995532736109788|  0.9607416849328123|    0.92320475555132| 0.9951932240541314|2.025159630229677E-4|0.8934051272276756|0.010912036595825788|0.6696785952539789|0.6696785952539789|0.9767464023634804|  0.37070547031354234|2.025159630229677E-4|2.025159630229677E-4|0.10984704088439912|0.7970373105880111|0.9890522252930525|0.9903149718860192|0.9864314304774612|0.8107309634994758|     2.084723148765843...| 2.025159630229677E-4|0.35201443819689315|  2.025159630229677E-4|0.01970956828361765|2.025159630229677E-4|   0.601007814733632|7.088058705803869E-4|2.025159630229677E-4|0.9994460592776137| 0.8682752787572667|    0.9968907843324121|0.3504240922519775|0.9699859430096255|0.9990172019441532|0.006313732964833699|0.7726520060993043|0.9976531973696751|      0.003150910130563233|2.144286667302011E-4|2.025159630229677E-4| 2.203850185838177...|2.680358334127513...| 0.972106404269513| 0.972106404269513|0.005277327742304393|           0.0|     0.0|            0.0|\n",
            "+--------+---------------------+------------------------+------------------+--------------------+--------------------+-------------------+---------------------+--------------------+------------------+------------------------+----------------------------+--------------------+--------------------+--------------------+--------------------+-------------------+--------------------+------------------+--------------------+------------------+------------------+------------------+---------------------+--------------------+--------------------+-------------------+------------------+------------------+------------------+------------------+------------------+-------------------------+---------------------+-------------------+----------------------+-------------------+--------------------+--------------------+--------------------+--------------------+------------------+-------------------+----------------------+------------------+------------------+------------------+--------------------+------------------+------------------+--------------------------+--------------------+--------------------+---------------------+--------------------+------------------+------------------+--------------------+--------------+--------+---------------+\n",
            "\n"
          ]
        }
      ],
      "source": [
        "# df.select([count(when(isnan(c) | col(c).isNull(), c)).alias(c) for c in df.columns]).show()\n",
        "df.select([(count(when(col(c).isNull(), c))/count(lit(1))).alias(c) for c in df.columns]).show()"
      ]
    },
    {
      "cell_type": "code",
      "execution_count": null,
      "metadata": {
        "id": "3K7GkPphg6PN",
        "colab": {
          "base_uri": "https://localhost:8080/"
        },
        "outputId": "74906d47-ee71-4e6b-f693-54bdfa22566f"
      },
      "outputs": [
        {
          "metadata": {
            "tags": null
          },
          "name": "stdout",
          "output_type": "stream",
          "text": [
            "Trước khi lọc dữ liệu có 61 cột.\n"
          ]
        }
      ],
      "source": [
        "print(f'Trước khi lọc dữ liệu có {len(df.columns)} cột.')"
      ]
    },
    {
      "cell_type": "code",
      "execution_count": null,
      "metadata": {
        "id": "n_joScJVgtAl"
      },
      "outputs": [],
      "source": [
        "def column_dropper(df, threshold):\n",
        "    # Takes a dataframe and threshold for missing values. Returns a dataframe.\n",
        "    total_records = df.count()\n",
        "    for col in df.columns:\n",
        "        # Calculate the percentage of missing values\n",
        "        missing = df.where(df[col].isNull()).count()\n",
        "        missing_percent = missing / total_records\n",
        "        # Drop column if percent of missing is more than threshold\n",
        "        if missing_percent > threshold:\n",
        "            df = df.drop(col)\n",
        "    return df\n",
        "\n",
        "# Drop columns that are more than 60% missing\n",
        "df = column_dropper(df, 0.6)"
      ]
    },
    {
      "cell_type": "code",
      "execution_count": null,
      "metadata": {
        "id": "pSbN3UUszfu1",
        "colab": {
          "base_uri": "https://localhost:8080/"
        },
        "outputId": "5ab20fb7-1563-4c9d-c32f-d36d92286180"
      },
      "outputs": [
        {
          "metadata": {
            "tags": null
          },
          "name": "stdout",
          "output_type": "stream",
          "text": [
            "Sau khi lọc dữ liệu còn 32 cột.\n"
          ]
        }
      ],
      "source": [
        "print(f'Sau khi lọc dữ liệu còn {len(df.columns)} cột.')"
      ]
    },
    {
      "cell_type": "code",
      "execution_count": null,
      "metadata": {
        "id": "TrK-vjh5zsfC",
        "colab": {
          "base_uri": "https://localhost:8080/"
        },
        "outputId": "a7584947-e447-4097-ae02-f65aa27e2725"
      },
      "outputs": [
        {
          "output_type": "execute_result",
          "data": {
            "text/plain": [
              "['parcelid',\n",
              " 'bathroomcnt',\n",
              " 'bedroomcnt',\n",
              " 'buildingqualitytypeid',\n",
              " 'calculatedbathnbr',\n",
              " 'calculatedfinishedsquarefeet',\n",
              " 'finishedsquarefeet12',\n",
              " 'fips',\n",
              " 'fullbathcnt',\n",
              " 'heatingorsystemtypeid',\n",
              " 'latitude',\n",
              " 'longitude',\n",
              " 'lotsizesquarefeet',\n",
              " 'propertycountylandusecode',\n",
              " 'propertylandusetypeid',\n",
              " 'propertyzoningdesc',\n",
              " 'rawcensustractandblock',\n",
              " 'regionidcity',\n",
              " 'regionidcounty',\n",
              " 'regionidzip',\n",
              " 'roomcnt',\n",
              " 'unitcnt',\n",
              " 'yearbuilt',\n",
              " 'structuretaxvaluedollarcnt',\n",
              " 'taxvaluedollarcnt',\n",
              " 'assessmentyear',\n",
              " 'landtaxvaluedollarcnt',\n",
              " 'taxamount',\n",
              " 'censustractandblock',\n",
              " 'parcelid_train',\n",
              " 'logerror',\n",
              " 'transactiondate']"
            ]
          },
          "metadata": {},
          "execution_count": 35
        }
      ],
      "source": [
        "df.columns"
      ]
    },
    {
      "cell_type": "code",
      "source": [
        "df.printSchema()"
      ],
      "metadata": {
        "id": "Mqljg4zPRNLx",
        "colab": {
          "base_uri": "https://localhost:8080/"
        },
        "outputId": "d4e48efd-b318-4ca4-bb01-c4dc3e2ed30a"
      },
      "execution_count": null,
      "outputs": [
        {
          "output_type": "stream",
          "name": "stdout",
          "text": [
            "root\n",
            " |-- parcelid: integer (nullable = true)\n",
            " |-- bathroomcnt: double (nullable = true)\n",
            " |-- bedroomcnt: double (nullable = true)\n",
            " |-- buildingqualitytypeid: integer (nullable = true)\n",
            " |-- calculatedbathnbr: double (nullable = true)\n",
            " |-- calculatedfinishedsquarefeet: double (nullable = true)\n",
            " |-- finishedsquarefeet12: integer (nullable = true)\n",
            " |-- fips: integer (nullable = true)\n",
            " |-- fullbathcnt: integer (nullable = true)\n",
            " |-- heatingorsystemtypeid: integer (nullable = true)\n",
            " |-- latitude: integer (nullable = true)\n",
            " |-- longitude: integer (nullable = true)\n",
            " |-- lotsizesquarefeet: double (nullable = true)\n",
            " |-- propertycountylandusecode: string (nullable = true)\n",
            " |-- propertylandusetypeid: integer (nullable = true)\n",
            " |-- propertyzoningdesc: string (nullable = true)\n",
            " |-- rawcensustractandblock: double (nullable = true)\n",
            " |-- regionidcity: integer (nullable = true)\n",
            " |-- regionidcounty: integer (nullable = true)\n",
            " |-- regionidzip: integer (nullable = true)\n",
            " |-- roomcnt: double (nullable = true)\n",
            " |-- unitcnt: integer (nullable = true)\n",
            " |-- yearbuilt: double (nullable = true)\n",
            " |-- structuretaxvaluedollarcnt: double (nullable = true)\n",
            " |-- taxvaluedollarcnt: double (nullable = true)\n",
            " |-- assessmentyear: integer (nullable = true)\n",
            " |-- landtaxvaluedollarcnt: double (nullable = true)\n",
            " |-- taxamount: double (nullable = true)\n",
            " |-- censustractandblock: long (nullable = true)\n",
            " |-- parcelid_train: integer (nullable = true)\n",
            " |-- logerror: double (nullable = true)\n",
            " |-- transactiondate: date (nullable = true)\n",
            "\n"
          ]
        }
      ]
    },
    {
      "cell_type": "code",
      "execution_count": null,
      "metadata": {
        "id": "V7ZQ933Qu33q"
      },
      "outputs": [],
      "source": [
        "# Thay thế các giá trị null = 0\n",
        "df = df.na.fill(0)"
      ]
    },
    {
      "cell_type": "code",
      "source": [
        "# Tính giá trị trung bình cột year\n",
        "year_mean = df.agg({'yearbuilt': 'mean'}).collect()[0][0]\n",
        "# Thay thế các giá trị trống bằng giá trị mean\n",
        "df = df.withColumn('yearbuilt', when(df['yearbuilt'] == 0, year_mean).otherwise(df['yearbuilt']))"
      ],
      "metadata": {
        "id": "cghWHwzS1NZb"
      },
      "execution_count": null,
      "outputs": []
    },
    {
      "cell_type": "code",
      "source": [
        "# Thay các giá trị 0 ở cột heatingorsystemtypeid bằng 13\n",
        "df = df.withColumn('heatingorsystemtypeid', when(df['heatingorsystemtypeid'] == 0, 13).otherwise(df['heatingorsystemtypeid']))"
      ],
      "metadata": {
        "id": "v8O2JrgU3s59"
      },
      "execution_count": null,
      "outputs": []
    },
    {
      "cell_type": "code",
      "source": [
        "# Thay giá trị null ở các cột calculatedfinishedsquarefeet, finishedsquarefeet12, lotsizesquarefeet bằng giá trị mean\n",
        "temp = df.agg({'calculatedfinishedsquarefeet': 'mean'}).collect()[0][0]\n",
        "df = df.withColumn('calculatedfinishedsquarefeet', when(df['calculatedfinishedsquarefeet'] == 0, temp).otherwise(df['calculatedfinishedsquarefeet']))\n",
        "\n",
        "temp = df.agg({'finishedsquarefeet12': 'mean'}).collect()[0][0]\n",
        "df = df.withColumn('finishedsquarefeet12', when(df['finishedsquarefeet12'] == 0, temp).otherwise(df['finishedsquarefeet12']))\n",
        "\n",
        "temp = df.agg({'lotsizesquarefeet': 'mean'}).collect()[0][0]\n",
        "df = df.withColumn('lotsizesquarefeet', when(df['lotsizesquarefeet'] == 0, temp).otherwise(df['lotsizesquarefeet']))\n",
        "\n",
        "# temp = df.agg({'structuretaxvaluedollarcnt': 'mean'}).collect()[0][0]\n",
        "# df = df.withColumn('structuretaxvaluedollarcnt', when(df['structuretaxvaluedollarcnt'] == 0, temp).otherwise(df['structuretaxvaluedollarcnt']))\n",
        "\n",
        "# temp = df.agg({'landtaxvaluedollarcnt': 'mean'}).collect()[0][0]\n",
        "# df = df.withColumn('landtaxvaluedollarcnt', when(df['landtaxvaluedollarcnt'] == 0, temp).otherwise(df['landtaxvaluedollarcnt']))\n",
        "\n",
        "# temp = df.agg({'taxvaluedollarcnt': 'mean'}).collect()[0][0]\n",
        "# df = df.withColumn('taxvaluedollarcnt', when(df['taxvaluedollarcnt'] == 0, temp).otherwise(df['taxvaluedollarcnt']))\n",
        "\n",
        "# temp = df.agg({'taxamount': 'mean'}).collect()[0][0]\n",
        "# df = df.withColumn('taxamount', when(df['taxamount'] == 0, temp).otherwise(df['taxamount']))\n"
      ],
      "metadata": {
        "id": "tEqJIWqv7Qwz"
      },
      "execution_count": null,
      "outputs": []
    },
    {
      "cell_type": "code",
      "execution_count": null,
      "metadata": {
        "id": "byfdJrrRpzr9"
      },
      "outputs": [],
      "source": [
        "cols = ['bathroomcnt', 'bedroomcnt', 'buildingqualitytypeid', 'calculatedbathnbr', 'calculatedfinishedsquarefeet',\n",
        "        'finishedsquarefeet12','fullbathcnt', 'heatingorsystemtypeid', 'lotsizesquarefeet', 'propertylandusetypeid',\n",
        "         'roomcnt', 'unitcnt', 'yearbuilt', 'logerror', 'transactiondate']\n",
        "df_build = df.select(cols)\n",
        "# 'latitude', 'longitude', 'structuretaxvaluedollarcnt', 'landtaxvaluedollarcnt', 'taxvaluedollarcnt', 'taxamount',\n",
        "# 'assessmentyear', 'propertyzoningdesc',"
      ]
    },
    {
      "cell_type": "markdown",
      "metadata": {
        "id": "8k77bSRKFpL2"
      },
      "source": [
        "## Duplicate"
      ]
    },
    {
      "cell_type": "markdown",
      "metadata": {
        "id": "065fmKVkuxd6"
      },
      "source": [
        "## Outlier filtering"
      ]
    },
    {
      "cell_type": "code",
      "execution_count": null,
      "metadata": {
        "id": "_ZMyNmrPu1Oh"
      },
      "outputs": [],
      "source": [
        "# cols = ['structuretaxvaluedollarcnt', 'landtaxvaluedollarcnt', 'taxvaluedollarcnt',\n",
        "#         'calculatedfinishedsquarefeet', 'finishedsquarefeet12']\n",
        "\n",
        "# def outlier_filtering(df, cols):\n",
        "#     for col in cols:\n",
        "#         mean_val = df.agg({col: 'mean'}).collect()[0][0]\n",
        "#         stddev_val = df.agg({col: 'stddev'}).collect()[0][0]\n",
        "\n",
        "#         lower_bound = mean_val - (3 * stddev_val)\n",
        "#         upper_bound = mean_val + (3 * stddev_val)\n",
        "\n",
        "#         df = df.filter((df_build[col] > lower_bound) & (df_build[col] < upper_bound))\n",
        "#     return df\n",
        "\n",
        "# df_build = outlier_filtering(df_build, cols)"
      ]
    },
    {
      "cell_type": "markdown",
      "metadata": {
        "id": "3E1JXP3qyx0q"
      },
      "source": [
        "## Text filtering"
      ]
    },
    {
      "cell_type": "markdown",
      "metadata": {
        "id": "sIUdCuNmul4H"
      },
      "source": [
        "# Adjust Data"
      ]
    },
    {
      "cell_type": "markdown",
      "metadata": {
        "id": "cu8YJu6mtKkp"
      },
      "source": [
        "## Robust Scaling"
      ]
    },
    {
      "cell_type": "code",
      "execution_count": null,
      "metadata": {
        "id": "c_omfEwCtMKZ"
      },
      "outputs": [],
      "source": [
        "# cols = ['structuretaxvaluedollarcnt', 'landtaxvaluedollarcnt', 'taxvaluedollarcnt',\n",
        "#         'calculatedfinishedsquarefeet', 'finishedsquarefeet12']\n",
        "\n",
        "# def robust_scaling(df, cols):s\n",
        "#     for col in cols:\n",
        "#         q1 = df.approxQuantile(col, [0.25], 0.05)[0]\n",
        "#         q3 = df.approxQuantile(col, [0.75], 0.05)[0]\n",
        "\n",
        "#         new_col = 'scaled_' + col\n",
        "#         df = df.withColumn(new_col, (df[col] - q1) / (q3 - q1))\n",
        "#     return df\n",
        "\n",
        "# df_build = robust_scaling(df_build, cols)"
      ]
    },
    {
      "cell_type": "markdown",
      "metadata": {
        "id": "6EHdj4jRun43"
      },
      "source": [
        "# Feature Engineering"
      ]
    },
    {
      "cell_type": "markdown",
      "metadata": {
        "id": "zAFY9ZqAAJoY"
      },
      "source": [
        "## Create new columns"
      ]
    },
    {
      "cell_type": "code",
      "execution_count": null,
      "metadata": {
        "id": "-tDYXbrch8h8",
        "colab": {
          "base_uri": "https://localhost:8080/"
        },
        "outputId": "581432f4-2ed8-456f-dea9-3f4a4d01f5c0"
      },
      "outputs": [
        {
          "output_type": "stream",
          "name": "stdout",
          "text": [
            "+---------------+----+\n",
            "|transactiondate|year|\n",
            "+---------------+----+\n",
            "|     2016-01-27|2016|\n",
            "|     2016-03-30|2016|\n",
            "|     2016-05-27|2016|\n",
            "|     2016-06-07|2016|\n",
            "|     2016-08-08|2016|\n",
            "|     2016-08-26|2016|\n",
            "|     2016-07-08|2016|\n",
            "|     2016-05-11|2016|\n",
            "|     2016-06-15|2016|\n",
            "|     2016-05-27|2016|\n",
            "+---------------+----+\n",
            "only showing top 10 rows\n",
            "\n"
          ]
        }
      ],
      "source": [
        "# Tạo thêm cột năm từ cột transactiondate\n",
        "df_build = df_build.withColumn('year', year('transactiondate'))\n",
        "\n",
        "df_build[['transactiondate','year']].show(10)"
      ]
    },
    {
      "cell_type": "code",
      "execution_count": null,
      "metadata": {
        "id": "gksMAoEovGRJ",
        "colab": {
          "base_uri": "https://localhost:8080/"
        },
        "outputId": "3b544d9f-bf25-4246-afc0-f416c3edff99"
      },
      "outputs": [
        {
          "output_type": "stream",
          "name": "stdout",
          "text": [
            "+----+---------+----+\n",
            "|year|yearbuilt| age|\n",
            "+----+---------+----+\n",
            "|2016|   1986.0|30.0|\n",
            "|2016|   1990.0|26.0|\n",
            "|2016|   1956.0|60.0|\n",
            "|2016|   1965.0|51.0|\n",
            "|2016|   1984.0|32.0|\n",
            "|2016|   1980.0|36.0|\n",
            "|2016|   1978.0|38.0|\n",
            "|2016|   1971.0|45.0|\n",
            "|2016|   1979.0|37.0|\n",
            "|2016|   1950.0|66.0|\n",
            "+----+---------+----+\n",
            "only showing top 10 rows\n",
            "\n"
          ]
        }
      ],
      "source": [
        "# Thêm cột thời gian công trình, trừ các dữ liệu không có năm xây dựng\n",
        "df_build = df_build.withColumn('age', df_build['year'] - df_build['yearbuilt'])\n",
        "\n",
        "df_build[['year', 'yearbuilt', 'age']].show(10)"
      ]
    },
    {
      "cell_type": "code",
      "source": [
        "# Thêm cột xem nhà có sử dụng heatingorsystemtypeid hay không\n",
        "df_build = df_build.withColumn('heating_system', when(df_build['heatingorsystemtypeid'] == 13, 0).otherwise(1))\n",
        "df_build[['heatingorsystemtypeid', 'heating_system']].show(10)"
      ],
      "metadata": {
        "colab": {
          "base_uri": "https://localhost:8080/"
        },
        "id": "icsqO1Q8C4ft",
        "outputId": "d5f4f2dd-6088-4976-ee48-36c0533904c5"
      },
      "execution_count": null,
      "outputs": [
        {
          "output_type": "stream",
          "name": "stdout",
          "text": [
            "+---------------------+--------------+\n",
            "|heatingorsystemtypeid|heating_system|\n",
            "+---------------------+--------------+\n",
            "|                   13|             0|\n",
            "|                   13|             0|\n",
            "|                   13|             0|\n",
            "|                   13|             0|\n",
            "|                   13|             0|\n",
            "|                   13|             0|\n",
            "|                   13|             0|\n",
            "|                   13|             0|\n",
            "|                   13|             0|\n",
            "|                   13|             0|\n",
            "+---------------------+--------------+\n",
            "only showing top 10 rows\n",
            "\n"
          ]
        }
      ]
    },
    {
      "cell_type": "code",
      "source": [
        "# Thêm cột sai số trong việc tính toán diện tích nhà\n",
        "df_build = df_build.withColumn('error_livingarea', df_build['calculatedfinishedsquarefeet']/df_build['finishedsquarefeet12'])\n",
        "df_build[['calculatedfinishedsquarefeet', 'finishedsquarefeet12', 'error_livingarea']].show(10)"
      ],
      "metadata": {
        "colab": {
          "base_uri": "https://localhost:8080/"
        },
        "id": "VJXtYq0SDge1",
        "outputId": "4857fad7-c4d6-4022-ce64-cb00d8446bce"
      },
      "execution_count": null,
      "outputs": [
        {
          "output_type": "stream",
          "name": "stdout",
          "text": [
            "+----------------------------+--------------------+----------------+\n",
            "|calculatedfinishedsquarefeet|finishedsquarefeet12|error_livingarea|\n",
            "+----------------------------+--------------------+----------------+\n",
            "|                      1264.0|              1264.0|             1.0|\n",
            "|                       777.0|               777.0|             1.0|\n",
            "|                      1101.0|              1101.0|             1.0|\n",
            "|                      1554.0|              1554.0|             1.0|\n",
            "|                      2415.0|              2415.0|             1.0|\n",
            "|                      2882.0|              2882.0|             1.0|\n",
            "|                      1772.0|              1772.0|             1.0|\n",
            "|                      2632.0|              2632.0|             1.0|\n",
            "|                      1292.0|              1292.0|             1.0|\n",
            "|                      1385.0|              1385.0|             1.0|\n",
            "+----------------------------+--------------------+----------------+\n",
            "only showing top 10 rows\n",
            "\n"
          ]
        }
      ]
    },
    {
      "cell_type": "code",
      "source": [
        "# Thêm cột tỉ lệ diện tích khu vực sinh sống / diện tích đất\n",
        "df_build = df_build.withColumn('prop_livingarea', df_build['calculatedfinishedsquarefeet']/df_build['lotsizesquarefeet'])\n",
        "df_build[['calculatedfinishedsquarefeet', 'lotsizesquarefeet', 'prop_livingarea']].show(10)"
      ],
      "metadata": {
        "colab": {
          "base_uri": "https://localhost:8080/"
        },
        "id": "Y2DjvmjoDyYd",
        "outputId": "4354d8c6-7e04-4f29-ca71-8095510f3ea9"
      },
      "execution_count": null,
      "outputs": [
        {
          "output_type": "stream",
          "name": "stdout",
          "text": [
            "+----------------------------+-----------------+--------------------+\n",
            "|calculatedfinishedsquarefeet|lotsizesquarefeet|     prop_livingarea|\n",
            "+----------------------------+-----------------+--------------------+\n",
            "|                      1264.0|           1735.0|  0.7285302593659942|\n",
            "|                       777.0|26268.94436560088|0.029578653378149432|\n",
            "|                      1101.0|           6569.0|  0.1676054193941239|\n",
            "|                      1554.0|           7400.0|                0.21|\n",
            "|                      2415.0|           6326.0|  0.3817578248498261|\n",
            "|                      2882.0|          10000.0|              0.2882|\n",
            "|                      1772.0|           8059.0| 0.21987839682342722|\n",
            "|                      2632.0|           7602.0|  0.3462246777163904|\n",
            "|                      1292.0|           7405.0| 0.17447670492910194|\n",
            "|                      1385.0|           6000.0| 0.23083333333333333|\n",
            "+----------------------------+-----------------+--------------------+\n",
            "only showing top 10 rows\n",
            "\n"
          ]
        }
      ]
    },
    {
      "cell_type": "code",
      "source": [
        "# Thêm cột diện tích mảnh đất thừa\n",
        "df_build = df_build.withColumn('extra_area', df_build['lotsizesquarefeet'] - df_build['calculatedfinishedsquarefeet'])\n",
        "df_build[['lotsizesquarefeet', 'calculatedfinishedsquarefeet', 'extra_area']].show(10)"
      ],
      "metadata": {
        "colab": {
          "base_uri": "https://localhost:8080/"
        },
        "id": "NHbSQ5s0ESC8",
        "outputId": "b06bb306-7fa5-48ff-c713-81ee560f773d"
      },
      "execution_count": null,
      "outputs": [
        {
          "output_type": "stream",
          "name": "stdout",
          "text": [
            "+-----------------+----------------------------+-----------------+\n",
            "|lotsizesquarefeet|calculatedfinishedsquarefeet|       extra_area|\n",
            "+-----------------+----------------------------+-----------------+\n",
            "|           1735.0|                      1264.0|            471.0|\n",
            "|26268.94436560088|                       777.0|25491.94436560088|\n",
            "|           6569.0|                      1101.0|           5468.0|\n",
            "|           7400.0|                      1554.0|           5846.0|\n",
            "|           6326.0|                      2415.0|           3911.0|\n",
            "|          10000.0|                      2882.0|           7118.0|\n",
            "|           8059.0|                      1772.0|           6287.0|\n",
            "|           7602.0|                      2632.0|           4970.0|\n",
            "|           7405.0|                      1292.0|           6113.0|\n",
            "|           6000.0|                      1385.0|           4615.0|\n",
            "+-----------------+----------------------------+-----------------+\n",
            "only showing top 10 rows\n",
            "\n"
          ]
        }
      ]
    },
    {
      "cell_type": "code",
      "source": [
        "# Thêm cột diện tích trung bình từng phòng\n",
        "df_build = df_build.withColumn('avg_room_area', df_build['calculatedfinishedsquarefeet']/df_build['roomcnt'])\n",
        "df_build[['calculatedfinishedsquarefeet', 'roomcnt', 'avg_room_area']].show(10)"
      ],
      "metadata": {
        "colab": {
          "base_uri": "https://localhost:8080/"
        },
        "id": "94A8cQt2EpK1",
        "outputId": "581e50b3-03d0-4eef-c2db-c86b2134f23b"
      },
      "execution_count": null,
      "outputs": [
        {
          "output_type": "stream",
          "name": "stdout",
          "text": [
            "+----------------------------+-------+------------------+\n",
            "|calculatedfinishedsquarefeet|roomcnt|     avg_room_area|\n",
            "+----------------------------+-------+------------------+\n",
            "|                      1264.0|    5.0|             252.8|\n",
            "|                       777.0|    4.0|            194.25|\n",
            "|                      1101.0|    5.0|             220.2|\n",
            "|                      1554.0|    5.0|             310.8|\n",
            "|                      2415.0|    8.0|           301.875|\n",
            "|                      2882.0|    8.0|            360.25|\n",
            "|                      1772.0|    6.0| 295.3333333333333|\n",
            "|                      2632.0|    8.0|             329.0|\n",
            "|                      1292.0|    6.0|215.33333333333334|\n",
            "|                      1385.0|    6.0|230.83333333333334|\n",
            "+----------------------------+-------+------------------+\n",
            "only showing top 10 rows\n",
            "\n"
          ]
        }
      ]
    },
    {
      "cell_type": "code",
      "source": [
        "# Thêm cột tổng số phòng tắm và phòng ngủ\n",
        "df_build = df_build.withColumn('bathroom_bedroom', df_build['bathroomcnt'] + df_build['bedroomcnt'])\n",
        "df_build[['bathroomcnt', 'bedroomcnt', 'bathroom_bedroom']].show(10)"
      ],
      "metadata": {
        "colab": {
          "base_uri": "https://localhost:8080/"
        },
        "id": "Owu8JDoZFFkY",
        "outputId": "c3d0fb95-a241-4819-8f17-9f804cf19b69"
      },
      "execution_count": null,
      "outputs": [
        {
          "output_type": "stream",
          "name": "stdout",
          "text": [
            "+-----------+----------+----------------+\n",
            "|bathroomcnt|bedroomcnt|bathroom_bedroom|\n",
            "+-----------+----------+----------------+\n",
            "|        2.5|       3.0|             5.5|\n",
            "|        1.0|       2.0|             3.0|\n",
            "|        2.0|       3.0|             5.0|\n",
            "|        1.5|       2.0|             3.5|\n",
            "|        2.5|       4.0|             6.5|\n",
            "|        2.5|       4.0|             6.5|\n",
            "|        2.0|       3.0|             5.0|\n",
            "|        2.5|       5.0|             7.5|\n",
            "|        2.0|       3.0|             5.0|\n",
            "|        1.0|       3.0|             4.0|\n",
            "+-----------+----------+----------------+\n",
            "only showing top 10 rows\n",
            "\n"
          ]
        }
      ]
    },
    {
      "cell_type": "code",
      "source": [
        "# Thêm cột số phòng còn thêm\n",
        "df_build = df_build.withColumn('extra_room', df_build['roomcnt'] - df_build['bathroom_bedroom'])\n",
        "df_build[['roomcnt', 'bathroom_bedroom', 'extra_room']].show(10)"
      ],
      "metadata": {
        "colab": {
          "base_uri": "https://localhost:8080/"
        },
        "id": "3nxasMAmFJy8",
        "outputId": "e65983bd-8632-4d8d-ea3c-dc3f1de2431a"
      },
      "execution_count": null,
      "outputs": [
        {
          "output_type": "stream",
          "name": "stdout",
          "text": [
            "+-------+----------------+----------+\n",
            "|roomcnt|bathroom_bedroom|extra_room|\n",
            "+-------+----------------+----------+\n",
            "|    5.0|             5.5|      -0.5|\n",
            "|    4.0|             3.0|       1.0|\n",
            "|    5.0|             5.0|       0.0|\n",
            "|    5.0|             3.5|       1.5|\n",
            "|    8.0|             6.5|       1.5|\n",
            "|    8.0|             6.5|       1.5|\n",
            "|    6.0|             5.0|       1.0|\n",
            "|    8.0|             7.5|       0.5|\n",
            "|    6.0|             5.0|       1.0|\n",
            "|    6.0|             4.0|       2.0|\n",
            "+-------+----------------+----------+\n",
            "only showing top 10 rows\n",
            "\n"
          ]
        }
      ]
    },
    {
      "cell_type": "markdown",
      "source": [
        "# String indexer"
      ],
      "metadata": {
        "id": "5o5nGUiL5iTl"
      }
    },
    {
      "cell_type": "code",
      "source": [
        "# # String indexer cột propertyzoningdesc\n",
        "# indexer = StringIndexer(inputCol='propertyzoningdesc', outputCol='propertyzoningdesc_index')\n",
        "# df_build = indexer.fit(df_build).transform(df_build)"
      ],
      "metadata": {
        "id": "JHBVvmVL5jhd"
      },
      "execution_count": null,
      "outputs": []
    },
    {
      "cell_type": "markdown",
      "metadata": {
        "id": "P_n_1yHCutAA"
      },
      "source": [
        "# Build Model"
      ]
    },
    {
      "cell_type": "code",
      "execution_count": null,
      "metadata": {
        "id": "6-67KSC2ybpO"
      },
      "outputs": [],
      "source": [
        "# # Vectorize feature columns\n",
        "# # inputCols = ['roomcnt', 'buildingqualitytypeid', 'scaled_calculatedfinishedsquarefeet', 'scaled_finishedsquarefeet12',\n",
        "# #                  'lotsizesquarefeet', 'fullbathcnt', 'heatingorsystemtypeid', 'age',\n",
        "# #                'scaled_structuretaxvaluedollarcnt', 'scaled_landtaxvaluedollarcnt' , 'scaled_taxvaluedollarcnt']\n",
        "# inputCols = sfs1.get_feature_names_out()\n",
        "# vector_assembler = VectorAssembler(inputCols=inputCols, outputCol='feature')\n",
        "# df_build = vector_assembler.transform(df_build)"
      ]
    },
    {
      "cell_type": "code",
      "execution_count": null,
      "metadata": {
        "id": "xBaKaGfbAxBi"
      },
      "outputs": [],
      "source": [
        "# df_build.select(['features', 'logerror']).show(5)"
      ]
    },
    {
      "cell_type": "code",
      "execution_count": null,
      "metadata": {
        "id": "etCoL94tyKax"
      },
      "outputs": [],
      "source": [
        "# # Chia tập dữ liệu thành tập test và tập train\n",
        "# train_data, test_data = df_build.randomSplit([0.7, 0.3], seed=42)\n",
        "\n",
        "# # Xây mô hình\n",
        "# lr = LinearRegression(featuresCol='features', labelCol='logerror')\n",
        "\n",
        "# model = lr.fit(train_data)\n",
        "\n",
        "# predictions = model.transform(test_data)"
      ]
    },
    {
      "cell_type": "code",
      "execution_count": null,
      "metadata": {
        "id": "iDuVQPCl-vmu"
      },
      "outputs": [],
      "source": [
        "# evaluator = RegressionEvaluator(labelCol=\"logerror\", predictionCol=\"prediction\", metricName=\"mae\")\n",
        "# mae = evaluator.evaluate(predictions)\n",
        "# print(f'Mean Absolute Error: {mae}')\n",
        "# # print(f'Mean Squared Error: {evaluator.evaluate(predictions, {evaluator.metricName: \"mse\"})}')\n",
        "# # print(f'Root Mean Squared Error: {evaluator.evaluate(predictions, {evaluator.metricName: \"rmse\"})}')"
      ]
    },
    {
      "cell_type": "code",
      "source": [
        "import sklearn\n",
        "from sklearn.model_selection import train_test_split\n",
        "# from sklearn.linear_model import LinearRegression as LR\n",
        "from sklearn.feature_selection import SequentialFeatureSelector\n",
        "from sklearn.metrics import mean_squared_error\n",
        "from sklearn.metrics import mean_absolute_error\n",
        "from sklearn.inspection import permutation_importance\n",
        "from matplotlib import pyplot as plt"
      ],
      "metadata": {
        "id": "C5JlErm3jbsH"
      },
      "execution_count": null,
      "outputs": []
    },
    {
      "cell_type": "code",
      "source": [
        "# Chuyển sang pandas\n",
        "df_build_pd = df_build.toPandas()"
      ],
      "metadata": {
        "id": "tLtTNN_x6mb7"
      },
      "execution_count": null,
      "outputs": []
    },
    {
      "cell_type": "code",
      "source": [
        "X = df_build_pd.drop(['logerror', 'transactiondate'], axis=1)\n",
        "y = df_build_pd['logerror']"
      ],
      "metadata": {
        "id": "v7DUy4jj6rRb"
      },
      "execution_count": null,
      "outputs": []
    },
    {
      "cell_type": "code",
      "source": [
        "X_train, X_test, y_train, y_test = train_test_split(X, y, test_size=0.3, random_state=42)"
      ],
      "metadata": {
        "id": "4zGNTMoh6uVq"
      },
      "execution_count": null,
      "outputs": []
    },
    {
      "cell_type": "code",
      "source": [
        "import xgboost as xgb"
      ],
      "metadata": {
        "id": "_O-UqTn17O7e"
      },
      "execution_count": null,
      "outputs": []
    },
    {
      "cell_type": "code",
      "source": [
        "train_y = df_build_pd['logerror']\n",
        "df_train = df_build_pd.drop(['logerror', 'transactiondate'], axis=1)\n",
        "feat_names = df_train.columns.values.tolist()\n",
        "\n",
        "xgb_params = {\n",
        "    'eta': 0.05,\n",
        "    'max_depth': 10,\n",
        "    'subsample': 0.7,\n",
        "    'colsample_bytree': 0.7,\n",
        "    'objective': 'reg:linear',\n",
        "    'silent': 1,\n",
        "    'seed' : 0\n",
        "}\n",
        "\n",
        "dtrain = xgb.DMatrix(df_train, train_y, feature_names=feat_names)\n",
        "xgb_model = xgb.train(dict(xgb_params, silent=0), dtrain, num_boost_round=150)"
      ],
      "metadata": {
        "colab": {
          "base_uri": "https://localhost:8080/"
        },
        "id": "vQuY96pV7Z9O",
        "outputId": "c97e1844-ec77-442e-8696-6fad90733a4f"
      },
      "execution_count": null,
      "outputs": [
        {
          "output_type": "stream",
          "name": "stderr",
          "text": [
            "/usr/local/lib/python3.10/dist-packages/xgboost/core.py:160: UserWarning: [19:48:17] WARNING: /workspace/src/objective/regression_obj.cu:209: reg:linear is now deprecated in favor of reg:squarederror.\n",
            "  warnings.warn(smsg, UserWarning)\n",
            "/usr/local/lib/python3.10/dist-packages/xgboost/core.py:160: UserWarning: [19:48:17] WARNING: /workspace/src/learner.cc:742: \n",
            "Parameters: { \"silent\" } are not used.\n",
            "\n",
            "  warnings.warn(smsg, UserWarning)\n"
          ]
        }
      ]
    },
    {
      "cell_type": "code",
      "source": [
        "fig, ax = plt.subplots(figsize=(5,8))\n",
        "xgb.plot_importance(xgb_model, max_num_features=50, height=0.5, ax=ax, show_values=False)\n",
        "plt.grid(False)\n",
        "plt.tick_params(left = False, bottom = False)\n",
        "plt.xticks([])\n",
        "plt.show()\n",
        "\n",
        "# plt.figure(figsize=(5,8))\n",
        "# xgb.plot_importance(xgb_model, max_num_features=50, height=0.7, show_values=False)\n",
        "# plt.grid(False)\n",
        "# plt.show()"
      ],
      "metadata": {
        "colab": {
          "base_uri": "https://localhost:8080/",
          "height": 694
        },
        "id": "zKAqdykQ_jTP",
        "outputId": "3d2a7c02-9c22-49ac-bd98-23ae783e921f"
      },
      "execution_count": null,
      "outputs": [
        {
          "output_type": "display_data",
          "data": {
            "text/plain": [
              "<Figure size 500x800 with 1 Axes>"
            ],
            "image/png": "[encoded data removed]"
          },
          "metadata": {}
        }
      ]
    },
    {
      "cell_type": "code",
      "source": [
        "# sfs1 = SequentialFeatureSelector(LR(),\n",
        "#                                  n_features_to_select=10,\n",
        "#                                  direction='forward',\n",
        "#                                  scoring='neg_mean_squared_error').fit(X_train, y_train)"
      ],
      "metadata": {
        "id": "TUxcb4036yRT"
      },
      "execution_count": null,
      "outputs": []
    },
    {
      "cell_type": "code",
      "source": [
        "# sfs1.get_support()"
      ],
      "metadata": {
        "id": "QE4Odyr_61GD"
      },
      "execution_count": null,
      "outputs": []
    },
    {
      "cell_type": "code",
      "source": [
        "# sfs1.get_feature_names_out()"
      ],
      "metadata": {
        "id": "AnnkxBXU64MU"
      },
      "execution_count": null,
      "outputs": []
    },
    {
      "cell_type": "code",
      "source": [
        "cols = ['lotsizesquarefeet', 'calculatedfinishedsquarefeet', 'yearbuilt',  'prop_livingarea', 'bathroomcnt',\n",
        "        'age', 'bedroomcnt', 'extra_area', 'buildingqualitytypeid', 'finishedsquarefeet12']"
      ],
      "metadata": {
        "id": "i-Mq07MoGH80"
      },
      "execution_count": null,
      "outputs": []
    },
    {
      "cell_type": "code",
      "source": [
        "X = df_build_pd[cols]\n",
        "y = df_build_pd['logerror']\n",
        "X_train, X_test, y_train, y_test = train_test_split(X, y, test_size=0.3, random_state=42)\n",
        "model = sklearn.linear_model.LinearRegression()\n",
        "model.fit(X_train, y_train)"
      ],
      "metadata": {
        "id": "-R7llPj969KE",
        "colab": {
          "base_uri": "https://localhost:8080/",
          "height": 74
        },
        "outputId": "dc8de87d-5da5-4d89-c8b6-b5162cf02398"
      },
      "execution_count": null,
      "outputs": [
        {
          "output_type": "execute_result",
          "data": {
            "text/plain": [
              "LinearRegression()"
            ],
            "text/html": [
              "<style>#sk-container-id-5 {color: black;background-color: white;}#sk-container-id-5 pre{padding: 0;}#sk-container-id-5 div.sk-toggleable {background-color: white;}#sk-container-id-5 label.sk-toggleable__label {cursor: pointer;display: block;width: 100%;margin-bottom: 0;padding: 0.3em;box-sizing: border-box;text-align: center;}#sk-container-id-5 label.sk-toggleable__label-arrow:before {content: \"▸\";float: left;margin-right: 0.25em;color: #696969;}#sk-container-id-5 label.sk-toggleable__label-arrow:hover:before {color: black;}#sk-container-id-5 div.sk-estimator:hover label.sk-toggleable__label-arrow:before {color: black;}#sk-container-id-5 div.sk-toggleable__content {max-height: 0;max-width: 0;overflow: hidden;text-align: left;background-color: #f0f8ff;}#sk-container-id-5 div.sk-toggleable__content pre {margin: 0.2em;color: black;border-radius: 0.25em;background-color: #f0f8ff;}#sk-container-id-5 input.sk-toggleable__control:checked~div.sk-toggleable__content {max-height: 200px;max-width: 100%;overflow: auto;}#sk-container-id-5 input.sk-toggleable__control:checked~label.sk-toggleable__label-arrow:before {content: \"▾\";}#sk-container-id-5 div.sk-estimator input.sk-toggleable__control:checked~label.sk-toggleable__label {background-color: #d4ebff;}#sk-container-id-5 div.sk-label input.sk-toggleable__control:checked~label.sk-toggleable__label {background-color: #d4ebff;}#sk-container-id-5 input.sk-hidden--visually {border: 0;clip: rect(1px 1px 1px 1px);clip: rect(1px, 1px, 1px, 1px);height: 1px;margin: -1px;overflow: hidden;padding: 0;position: absolute;width: 1px;}#sk-container-id-5 div.sk-estimator {font-family: monospace;background-color: #f0f8ff;border: 1px dotted black;border-radius: 0.25em;box-sizing: border-box;margin-bottom: 0.5em;}#sk-container-id-5 div.sk-estimator:hover {background-color: #d4ebff;}#sk-container-id-5 div.sk-parallel-item::after {content: \"\";width: 100%;border-bottom: 1px solid gray;flex-grow: 1;}#sk-container-id-5 div.sk-label:hover label.sk-toggleable__label {background-color: #d4ebff;}#sk-container-id-5 div.sk-serial::before {content: \"\";position: absolute;border-left: 1px solid gray;box-sizing: border-box;top: 0;bottom: 0;left: 50%;z-index: 0;}#sk-container-id-5 div.sk-serial {display: flex;flex-direction: column;align-items: center;background-color: white;padding-right: 0.2em;padding-left: 0.2em;position: relative;}#sk-container-id-5 div.sk-item {position: relative;z-index: 1;}#sk-container-id-5 div.sk-parallel {display: flex;align-items: stretch;justify-content: center;background-color: white;position: relative;}#sk-container-id-5 div.sk-item::before, #sk-container-id-5 div.sk-parallel-item::before {content: \"\";position: absolute;border-left: 1px solid gray;box-sizing: border-box;top: 0;bottom: 0;left: 50%;z-index: -1;}#sk-container-id-5 div.sk-parallel-item {display: flex;flex-direction: column;z-index: 1;position: relative;background-color: white;}#sk-container-id-5 div.sk-parallel-item:first-child::after {align-self: flex-end;width: 50%;}#sk-container-id-5 div.sk-parallel-item:last-child::after {align-self: flex-start;width: 50%;}#sk-container-id-5 div.sk-parallel-item:only-child::after {width: 0;}#sk-container-id-5 div.sk-dashed-wrapped {border: 1px dashed gray;margin: 0 0.4em 0.5em 0.4em;box-sizing: border-box;padding-bottom: 0.4em;background-color: white;}#sk-container-id-5 div.sk-label label {font-family: monospace;font-weight: bold;display: inline-block;line-height: 1.2em;}#sk-container-id-5 div.sk-label-container {text-align: center;}#sk-container-id-5 div.sk-container {/* jupyter's `normalize.less` sets `[hidden] { display: none; }` but bootstrap.min.css set `[hidden] { display: none !important; }` so we also need the `!important` here to be able to override the default hidden behavior on the sphinx rendered scikit-learn.org. See: https://github.com/scikit-learn/scikit-learn/issues/21755 */display: inline-block !important;position: relative;}#sk-container-id-5 div.sk-text-repr-fallback {display: none;}</style><div id=\"sk-container-id-5\" class=\"sk-top-container\"><div class=\"sk-text-repr-fallback\"><pre>LinearRegression()</pre><b>In a Jupyter environment, please rerun this cell to show the HTML representation or trust the notebook. <br />On GitHub, the HTML representation is unable to render, please try loading this page with nbviewer.org.</b></div><div class=\"sk-container\" hidden><div class=\"sk-item\"><div class=\"sk-estimator sk-toggleable\"><input class=\"sk-toggleable__control sk-hidden--visually\" id=\"sk-estimator-id-5\" type=\"checkbox\" checked><label for=\"sk-estimator-id-5\" class=\"sk-toggleable__label sk-toggleable__label-arrow\">LinearRegression</label><div class=\"sk-toggleable__content\"><pre>LinearRegression()</pre></div></div></div></div></div>"
            ]
          },
          "metadata": {},
          "execution_count": 185
        }
      ]
    },
    {
      "cell_type": "code",
      "source": [
        "# Đánh giá mô hình\n",
        "y_pred = model.predict(X_test)\n",
        "mse = mean_squared_error(y_test, y_pred)\n",
        "print(f'Mean Squared Error: {mse}')\n",
        "mae = mean_absolute_error(y_test, y_pred)\n",
        "print(f'Mean Absolute Error: {mae}')"
      ],
      "metadata": {
        "id": "NVePzvoo6_3y",
        "colab": {
          "base_uri": "https://localhost:8080/"
        },
        "outputId": "254d8aca-69c4-4516-8935-a72b087f65f5"
      },
      "execution_count": null,
      "outputs": [
        {
          "output_type": "stream",
          "name": "stdout",
          "text": [
            "Mean Squared Error: 0.02724612320738126\n",
            "Mean Absolute Error: 0.06915302523591084\n"
          ]
        }
      ]
    },
    {
      "cell_type": "code",
      "source": [
        "# tìm ra phương trình của mô hình\n",
        "w = model.coef_\n",
        "b = model.intercept_\n",
        "print(f'y = {w}x + {b}')\n",
        "print('Intercept of the model:',model.intercept_)\n",
        "print('Coefficient of the line:',model.coef_)"
      ],
      "metadata": {
        "colab": {
          "base_uri": "https://localhost:8080/"
        },
        "id": "EKV1LztBnYLq",
        "outputId": "b85b274f-544d-4303-d664-b2b2a5e4525a"
      },
      "execution_count": null,
      "outputs": [
        {
          "output_type": "stream",
          "name": "stdout",
          "text": [
            "y = [-3.27928283e-06 -6.56922232e-06  4.39742869e-03 -3.40155592e-03\n",
            " -3.14149474e-03  4.30015714e-03  3.24874445e-03  3.28993948e-06\n",
            " -5.32360337e-04  1.59375499e-05]x + -8.859724657872304\n",
            "Intercept of the model: -8.859724657872304\n",
            "Coefficient of the line: [-3.27928283e-06 -6.56922232e-06  4.39742869e-03 -3.40155592e-03\n",
            " -3.14149474e-03  4.30015714e-03  3.24874445e-03  3.28993948e-06\n",
            " -5.32360337e-04  1.59375499e-05]\n"
          ]
        }
      ]
    },
    {
      "cell_type": "code",
      "source": [
        "print(f'''y = {w[0]}*x1 + {w[1]}*x2 + {w[2]}*x3 + {w[3]}*x4 + {w[4]}*x5 + {w[5]}*x6 + {w[6]}*x7\n",
        "        + {w[7]}*x8 + {w[8]}*x9 + {w[9]}*x10 + {b}''')"
      ],
      "metadata": {
        "colab": {
          "base_uri": "https://localhost:8080/"
        },
        "id": "M42nWalYof-E",
        "outputId": "4eb91038-b55c-4fe7-b702-b2d565f1fc0f"
      },
      "execution_count": null,
      "outputs": [
        {
          "output_type": "stream",
          "name": "stdout",
          "text": [
            "y = -3.2792828302033225e-06*x1 + -6.569222318001323e-06*x2 + 0.004397428693297468*x3 + -0.003401555916359984*x4 + -0.0031414947353536043*x5 + 0.004300157142497534*x6 + 0.00324874444685401*x7\n",
            "        + 3.2899394752709394e-06*x8 + -0.0005323603367214458*x9 + 1.5937549915857734e-05*x10 + -8.859724657872304\n"
          ]
        }
      ]
    }
  ],
  "metadata": {
    "colab": {
      "toc_visible": true,
      "provenance": []
    },
    "kernelspec": {
      "display_name": "Python 3",
      "name": "python3"
    },
    "language_info": {
      "name": "python"
    }
  },
  "nbformat": 4,
  "nbformat_minor": 0
}